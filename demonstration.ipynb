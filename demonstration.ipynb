{
 "cells": [
  {
   "cell_type": "markdown",
   "metadata": {
    "collapsed": false
   },
   "source": [
    "To store our data files, we create a temporary directory"
   ]
  },
  {
   "cell_type": "code",
   "execution_count": 1,
   "metadata": {
    "ExecuteTime": {
     "end_time": "2023-08-22T15:41:37.306970900Z",
     "start_time": "2023-08-22T15:41:36.923971600Z"
    },
    "collapsed": false
   },
   "outputs": [
    {
     "ename": "ModuleNotFoundError",
     "evalue": "No module named 'torch'",
     "output_type": "error",
     "traceback": [
      "\u001b[0;31m---------------------------------------------------------------------------\u001b[0m",
      "\u001b[0;31mModuleNotFoundError\u001b[0m                       Traceback (most recent call last)",
      "Cell \u001b[0;32mIn[1], line 3\u001b[0m\n\u001b[1;32m      1\u001b[0m \u001b[38;5;28;01mimport\u001b[39;00m \u001b[38;5;21;01mos\u001b[39;00m\n\u001b[0;32m----> 3\u001b[0m \u001b[38;5;28;01mfrom\u001b[39;00m \u001b[38;5;21;01mimplementations\u001b[39;00m\u001b[38;5;21;01m.\u001b[39;00m\u001b[38;5;21;01mclassification_heads\u001b[39;00m \u001b[38;5;28;01mimport\u001b[39;00m LastTokenClassificationHead\n\u001b[1;32m      4\u001b[0m \u001b[38;5;28;01mfrom\u001b[39;00m \u001b[38;5;21;01mimplementations\u001b[39;00m\u001b[38;5;21;01m.\u001b[39;00m\u001b[38;5;21;01mtransformers\u001b[39;00m\u001b[38;5;21;01m.\u001b[39;00m\u001b[38;5;21;01mbasic_transformers\u001b[39;00m \u001b[38;5;28;01mimport\u001b[39;00m BasicTransformer\n\u001b[1;32m      6\u001b[0m demonstration_folder \u001b[38;5;241m=\u001b[39m \u001b[38;5;124m\"\u001b[39m\u001b[38;5;124mdemonstration\u001b[39m\u001b[38;5;124m\"\u001b[39m\n",
      "File \u001b[0;32m~/d2l/FlowTransformer_Pytorch_Imp/implementations/classification_heads.py:1\u001b[0m\n\u001b[0;32m----> 1\u001b[0m \u001b[38;5;28;01mimport\u001b[39;00m \u001b[38;5;21;01mtorch\u001b[39;00m\n\u001b[1;32m      2\u001b[0m \u001b[38;5;28;01mimport\u001b[39;00m \u001b[38;5;21;01mtorch\u001b[39;00m\u001b[38;5;21;01m.\u001b[39;00m\u001b[38;5;21;01mnn\u001b[39;00m \u001b[38;5;28;01mas\u001b[39;00m \u001b[38;5;21;01mnn\u001b[39;00m\n\u001b[1;32m      3\u001b[0m \u001b[38;5;28;01mimport\u001b[39;00m \u001b[38;5;21;01mnumpy\u001b[39;00m \u001b[38;5;28;01mas\u001b[39;00m \u001b[38;5;21;01mnp\u001b[39;00m\n",
      "\u001b[0;31mModuleNotFoundError\u001b[0m: No module named 'torch'"
     ]
    }
   ],
   "source": [
    "import os\n",
    "\n",
    "from implementations.classification_heads import LastTokenClassificationHead\n",
    "from implementations.transformers.basic_transformers import BasicTransformer\n",
    "\n",
    "demonstration_folder = \"demonstration\"\n",
    "\n",
    "if not os.path.exists(demonstration_folder):\n",
    "    os.mkdir(demonstration_folder)"
   ]
  },
  {
   "cell_type": "markdown",
   "metadata": {
    "collapsed": false
   },
   "source": [
    "We begin by downloading the UNSW-NB15 flow dataset. We can obtain this from [here](https://staff.itee.uq.edu.au/marius/NIDS_datasets/)"
   ]
  },
  {
   "cell_type": "code",
   "execution_count": null,
   "metadata": {
    "ExecuteTime": {
     "end_time": "2023-08-22T15:41:37.421470900Z",
     "start_time": "2023-08-22T15:41:36.932988400Z"
    },
    "collapsed": true
   },
   "outputs": [],
   "source": [
    "import requests\n",
    "\n",
    "zip_path = os.path.join(demonstration_folder, \"dataset.zip\")\n",
    "\n",
    "if not os.path.exists(zip_path):\n",
    "    r = requests.get(\"https://api.rdm.uq.edu.au/production/files/8c6e2a00-ef9c-11ed-827d-e762de186848/download\")\n",
    "\n",
    "    with open(zip_path, \"wb\") as w:\n",
    "        w.write(r.content)\n",
    "\n",
    "    print(f\"Downloaded file to {zip_path}, size = {os.path.getsize(zip_path):,}\")\n",
    "\n",
    "zip_folder = os.path.join(demonstration_folder, \"dataset\")"
   ]
  },
  {
   "cell_type": "markdown",
   "metadata": {
    "collapsed": false
   },
   "source": [
    "We can now extract the dataset"
   ]
  },
  {
   "cell_type": "code",
   "execution_count": 10,
   "metadata": {
    "ExecuteTime": {
     "end_time": "2023-08-22T15:41:37.298471200Z",
     "start_time": "2023-08-22T15:41:36.987470600Z"
    },
    "collapsed": false
   },
   "outputs": [
    {
     "name": "stdout",
     "output_type": "stream",
     "text": [
      "Dataset is available at demonstration/dataset.csv, size = 3,221,378,977\n"
     ]
    }
   ],
   "source": [
    "import zipfile\n",
    "\n",
    "csv_path = os.path.join(demonstration_folder, \"dataset.csv\")\n",
    "\n",
    "if not os.path.exists(csv_path):\n",
    "    inner_path = os.path.join(demonstration_folder, \"b3427ed8ad063a09_MOHANAD_A4706/data/NF-CSE-CIC-IDS2018-v2.csv\")\n",
    "    os.rename(inner_path, csv_path)\n",
    "\n",
    "print(f\"Dataset is available at {csv_path}, size = {os.path.getsize(csv_path):,}\")"
   ]
  },
  {
   "cell_type": "markdown",
   "metadata": {
    "collapsed": false
   },
   "source": [
    "We can now define the dataset format, which will allow us to ingest this dataset with FlowTransformer"
   ]
  },
  {
   "cell_type": "code",
   "execution_count": null,
   "metadata": {
    "ExecuteTime": {
     "end_time": "2023-08-22T15:41:37.299971800Z",
     "start_time": "2023-08-22T15:41:37.005471100Z"
    },
    "collapsed": false
   },
   "outputs": [],
   "source": [
    "from framework.dataset_specification import DatasetSpecification\n",
    "\n",
    "flow_format = DatasetSpecification(\n",
    "        include_fields=['NUM_PKTS_UP_TO_128_BYTES', 'SRC_TO_DST_SECOND_BYTES', 'OUT_PKTS', 'OUT_BYTES', 'NUM_PKTS_128_TO_256_BYTES', 'DST_TO_SRC_AVG_THROUGHPUT', 'DURATION_IN', 'L4_SRC_PORT', 'ICMP_TYPE', 'PROTOCOL', 'SERVER_TCP_FLAGS', 'IN_PKTS', 'NUM_PKTS_512_TO_1024_BYTES', 'CLIENT_TCP_FLAGS', 'TCP_WIN_MAX_IN', 'NUM_PKTS_256_TO_512_BYTES', 'SHORTEST_FLOW_PKT', 'MIN_IP_PKT_LEN', 'LONGEST_FLOW_PKT', 'L4_DST_PORT', 'MIN_TTL', 'DST_TO_SRC_SECOND_BYTES', 'NUM_PKTS_1024_TO_1514_BYTES', 'DURATION_OUT', 'FLOW_DURATION_MILLISECONDS', 'TCP_FLAGS', 'MAX_TTL', 'SRC_TO_DST_AVG_THROUGHPUT', 'ICMP_IPV4_TYPE', 'MAX_IP_PKT_LEN', 'RETRANSMITTED_OUT_BYTES', 'IN_BYTES', 'RETRANSMITTED_IN_BYTES', 'TCP_WIN_MAX_OUT', 'L7_PROTO', 'RETRANSMITTED_OUT_PKTS', 'RETRANSMITTED_IN_PKTS'],\n",
    "        categorical_fields=['CLIENT_TCP_FLAGS', 'L4_SRC_PORT', 'TCP_FLAGS', 'ICMP_IPV4_TYPE', 'ICMP_TYPE', 'PROTOCOL', 'SERVER_TCP_FLAGS', 'L4_DST_PORT', 'L7_PROTO'],\n",
    "        class_column=\"Attack\",\n",
    "        benign_label=\"Benign\"\n",
    "    )"
   ]
  },
  {
   "cell_type": "code",
   "execution_count": 14,
   "metadata": {},
   "outputs": [
    {
     "data": {
      "text/plain": [
       "('Benign',\n",
       " 'Attack',\n",
       " ['NUM_PKTS_UP_TO_128_BYTES',\n",
       "  'SRC_TO_DST_SECOND_BYTES',\n",
       "  'OUT_PKTS',\n",
       "  'OUT_BYTES',\n",
       "  'NUM_PKTS_128_TO_256_BYTES',\n",
       "  'DST_TO_SRC_AVG_THROUGHPUT',\n",
       "  'DURATION_IN',\n",
       "  'L4_SRC_PORT',\n",
       "  'ICMP_TYPE',\n",
       "  'PROTOCOL',\n",
       "  'SERVER_TCP_FLAGS',\n",
       "  'IN_PKTS',\n",
       "  'NUM_PKTS_512_TO_1024_BYTES',\n",
       "  'CLIENT_TCP_FLAGS',\n",
       "  'TCP_WIN_MAX_IN',\n",
       "  'NUM_PKTS_256_TO_512_BYTES',\n",
       "  'SHORTEST_FLOW_PKT',\n",
       "  'MIN_IP_PKT_LEN',\n",
       "  'LONGEST_FLOW_PKT',\n",
       "  'L4_DST_PORT',\n",
       "  'MIN_TTL',\n",
       "  'DST_TO_SRC_SECOND_BYTES',\n",
       "  'NUM_PKTS_1024_TO_1514_BYTES',\n",
       "  'DURATION_OUT',\n",
       "  'FLOW_DURATION_MILLISECONDS',\n",
       "  'TCP_FLAGS',\n",
       "  'MAX_TTL',\n",
       "  'SRC_TO_DST_AVG_THROUGHPUT',\n",
       "  'ICMP_IPV4_TYPE',\n",
       "  'MAX_IP_PKT_LEN',\n",
       "  'RETRANSMITTED_OUT_BYTES',\n",
       "  'IN_BYTES',\n",
       "  'RETRANSMITTED_IN_BYTES',\n",
       "  'TCP_WIN_MAX_OUT',\n",
       "  'L7_PROTO',\n",
       "  'RETRANSMITTED_OUT_PKTS',\n",
       "  'RETRANSMITTED_IN_PKTS'],\n",
       " ['CLIENT_TCP_FLAGS',\n",
       "  'L4_SRC_PORT',\n",
       "  'TCP_FLAGS',\n",
       "  'ICMP_IPV4_TYPE',\n",
       "  'ICMP_TYPE',\n",
       "  'PROTOCOL',\n",
       "  'SERVER_TCP_FLAGS',\n",
       "  'L4_DST_PORT',\n",
       "  'L7_PROTO'])"
      ]
     },
     "execution_count": 14,
     "metadata": {},
     "output_type": "execute_result"
    }
   ],
   "source": [
    "flow_format.benign_label, flow_format.class_column, flow_format.include_fields, flow_format.categorical_fields"
   ]
  },
  {
   "cell_type": "markdown",
   "metadata": {
    "collapsed": false
   },
   "source": [
    "We can now set up a version of FlowTransformer:"
   ]
  },
  {
   "cell_type": "code",
   "execution_count": null,
   "metadata": {
    "ExecuteTime": {
     "end_time": "2023-08-22T15:41:37.304972Z",
     "start_time": "2023-08-22T15:41:37.021471200Z"
    },
    "collapsed": false
   },
   "outputs": [],
   "source": [
    "from framework.flow_transformer_parameters import FlowTransformerParameters\n",
    "from framework.flow_transformer import FlowTransformer\n",
    "from implementations.input_encodings import RecordLevelEmbed\n",
    "from implementations.pre_processings import StandardPreProcessing\n",
    "\n",
    "# We use several standard component to build our transformer\n",
    "pre_processing = StandardPreProcessing(n_categorical_levels=32)\n",
    "encoding = RecordLevelEmbed(64)\n",
    "transformer = BasicTransformer(n_layers=2, internal_size=128, n_heads=2)\n",
    "classification_head = LastTokenClassificationHead()\n",
    "\n",
    "# Define the transformer\n",
    "ft = FlowTransformer(pre_processing=pre_processing,\n",
    "                     input_encoding=encoding,\n",
    "                     sequential_model=transformer,\n",
    "                     classification_head=classification_head,\n",
    "                     params=FlowTransformerParameters(window_size=8, mlp_layer_sizes=[128], mlp_dropout=0.1))\n",
    "\n",
    "print(ft)"
   ]
  },
  {
   "cell_type": "markdown",
   "metadata": {
    "collapsed": false
   },
   "source": [
    "After defining the transformer architecture, we can ingest the dataset using the FlowTransformer instance, which will process the dataset into a normalised format (partitioning training and testing data, to ensure only the testing data is used to fit the pre-processing):"
   ]
  },
  {
   "cell_type": "code",
   "execution_count": null,
   "metadata": {
    "ExecuteTime": {
     "end_time": "2023-08-22T15:41:38.135972500Z",
     "start_time": "2023-08-22T15:41:37.035982Z"
    },
    "collapsed": false
   },
   "outputs": [
    {
     "name": "stdout",
     "output_type": "stream",
     "text": [
      "Using cache file path: demonstration/UNSW-NB15_0_QdLmZHuh8yOmlGcKBEkf7hepImY0_5EjmvToFWKee8t20u0dFpVzNu4s0.feather\n",
      "Attempting to read dataset from path demonstration/dataset.csv...\n",
      "Set y to = Attack\n",
      "Converting numerical columns to floats, and removing out of range values...\n"
     ]
    }
   ],
   "source": [
    "from framework.enumerations import EvaluationDatasetSampling\n",
    "from IPython.display import display\n",
    "\n",
    "df = ft.load_dataset(\"UNSW-NB15\",\n",
    "                csv_path,\n",
    "                specification=flow_format,\n",
    "                evaluation_dataset_sampling=EvaluationDatasetSampling.LastRows,\n",
    "                evaluation_percent=0.1,\n",
    "                cache_path=demonstration_folder)\n",
    "\n",
    "display(df.iloc[:500])"
   ]
  },
  {
   "cell_type": "markdown",
   "metadata": {
    "collapsed": false
   },
   "source": [
    "We are now ready to build the transformer model, that is able to ingest this dataset"
   ]
  },
  {
   "cell_type": "code",
   "execution_count": 41,
   "metadata": {
    "ExecuteTime": {
     "end_time": "2023-08-22T15:41:39.069970600Z",
     "start_time": "2023-08-22T15:41:38.140971600Z"
    },
    "collapsed": false
   },
   "outputs": [
    {
     "name": "stdout",
     "output_type": "stream",
     "text": [
      "Model: \"model_1\"\n",
      "__________________________________________________________________________________________________\n",
      " Layer (type)                   Output Shape         Param #     Connected to                     \n",
      "==================================================================================================\n",
      " input_SHORTEST_FLOW_PKT (Input  [(None, 8, 1)]      0           []                               \n",
      " Layer)                                                                                           \n",
      "                                                                                                  \n",
      " input_DURATION_IN (InputLayer)  [(None, 8, 1)]      0           []                               \n",
      "                                                                                                  \n",
      " input_NUM_PKTS_1024_TO_1514_BY  [(None, 8, 1)]      0           []                               \n",
      " TES (InputLayer)                                                                                 \n",
      "                                                                                                  \n",
      " input_NUM_PKTS_128_TO_256_BYTE  [(None, 8, 1)]      0           []                               \n",
      " S (InputLayer)                                                                                   \n",
      "                                                                                                  \n",
      " input_TCP_WIN_MAX_OUT (InputLa  [(None, 8, 1)]      0           []                               \n",
      " yer)                                                                                             \n",
      "                                                                                                  \n",
      " input_MAX_TTL (InputLayer)     [(None, 8, 1)]       0           []                               \n",
      "                                                                                                  \n",
      " input_NUM_PKTS_UP_TO_128_BYTES  [(None, 8, 1)]      0           []                               \n",
      "  (InputLayer)                                                                                    \n",
      "                                                                                                  \n",
      " input_OUT_PKTS (InputLayer)    [(None, 8, 1)]       0           []                               \n",
      "                                                                                                  \n",
      " input_IN_BYTES (InputLayer)    [(None, 8, 1)]       0           []                               \n",
      "                                                                                                  \n",
      " input_MIN_TTL (InputLayer)     [(None, 8, 1)]       0           []                               \n",
      "                                                                                                  \n",
      " input_MAX_IP_PKT_LEN (InputLay  [(None, 8, 1)]      0           []                               \n",
      " er)                                                                                              \n",
      "                                                                                                  \n",
      " input_RETRANSMITTED_IN_BYTES (  [(None, 8, 1)]      0           []                               \n",
      " InputLayer)                                                                                      \n",
      "                                                                                                  \n",
      " input_TCP_WIN_MAX_IN (InputLay  [(None, 8, 1)]      0           []                               \n",
      " er)                                                                                              \n",
      "                                                                                                  \n",
      " input_MIN_IP_PKT_LEN (InputLay  [(None, 8, 1)]      0           []                               \n",
      " er)                                                                                              \n",
      "                                                                                                  \n",
      " input_SRC_TO_DST_SECOND_BYTES   [(None, 8, 1)]      0           []                               \n",
      " (InputLayer)                                                                                     \n",
      "                                                                                                  \n",
      " input_IN_PKTS (InputLayer)     [(None, 8, 1)]       0           []                               \n",
      "                                                                                                  \n",
      " input_NUM_PKTS_512_TO_1024_BYT  [(None, 8, 1)]      0           []                               \n",
      " ES (InputLayer)                                                                                  \n",
      "                                                                                                  \n",
      " input_DST_TO_SRC_AVG_THROUGHPU  [(None, 8, 1)]      0           []                               \n",
      " T (InputLayer)                                                                                   \n",
      "                                                                                                  \n",
      " input_LONGEST_FLOW_PKT (InputL  [(None, 8, 1)]      0           []                               \n",
      " ayer)                                                                                            \n",
      "                                                                                                  \n",
      " input_DURATION_OUT (InputLayer  [(None, 8, 1)]      0           []                               \n",
      " )                                                                                                \n",
      "                                                                                                  \n",
      " input_RETRANSMITTED_OUT_BYTES   [(None, 8, 1)]      0           []                               \n",
      " (InputLayer)                                                                                     \n",
      "                                                                                                  \n",
      " input_RETRANSMITTED_IN_PKTS (I  [(None, 8, 1)]      0           []                               \n",
      " nputLayer)                                                                                       \n",
      "                                                                                                  \n",
      " input_FLOW_DURATION_MILLISECON  [(None, 8, 1)]      0           []                               \n",
      " DS (InputLayer)                                                                                  \n",
      "                                                                                                  \n",
      " input_RETRANSMITTED_OUT_PKTS (  [(None, 8, 1)]      0           []                               \n",
      " InputLayer)                                                                                      \n",
      "                                                                                                  \n",
      " input_OUT_BYTES (InputLayer)   [(None, 8, 1)]       0           []                               \n",
      "                                                                                                  \n",
      " input_SRC_TO_DST_AVG_THROUGHPU  [(None, 8, 1)]      0           []                               \n",
      " T (InputLayer)                                                                                   \n",
      "                                                                                                  \n",
      " input_DST_TO_SRC_SECOND_BYTES   [(None, 8, 1)]      0           []                               \n",
      " (InputLayer)                                                                                     \n",
      "                                                                                                  \n",
      " input_NUM_PKTS_256_TO_512_BYTE  [(None, 8, 1)]      0           []                               \n",
      " S (InputLayer)                                                                                   \n",
      "                                                                                                  \n",
      " input_CLIENT_TCP_FLAGS (InputL  [(None, 8, 16)]     0           []                               \n",
      " ayer)                                                                                            \n",
      "                                                                                                  \n",
      " input_L4_SRC_PORT (InputLayer)  [(None, 8, 32)]     0           []                               \n",
      "                                                                                                  \n",
      " input_TCP_FLAGS (InputLayer)   [(None, 8, 17)]      0           []                               \n",
      "                                                                                                  \n",
      " input_ICMP_IPV4_TYPE (InputLay  [(None, 8, 32)]     0           []                               \n",
      " er)                                                                                              \n",
      "                                                                                                  \n",
      " input_ICMP_TYPE (InputLayer)   [(None, 8, 32)]      0           []                               \n",
      "                                                                                                  \n",
      " input_PROTOCOL (InputLayer)    [(None, 8, 32)]      0           []                               \n",
      "                                                                                                  \n",
      " input_SERVER_TCP_FLAGS (InputL  [(None, 8, 15)]     0           []                               \n",
      " ayer)                                                                                            \n",
      "                                                                                                  \n",
      " input_L4_DST_PORT (InputLayer)  [(None, 8, 32)]     0           []                               \n",
      "                                                                                                  \n",
      " input_L7_PROTO (InputLayer)    [(None, 8, 32)]      0           []                               \n",
      "                                                                                                  \n",
      " feature_concat (Concatenate)   (None, 8, 268)       0           ['input_SHORTEST_FLOW_PKT[0][0]',\n",
      "                                                                  'input_DURATION_IN[0][0]',      \n",
      "                                                                  'input_NUM_PKTS_1024_TO_1514_BYT\n",
      "                                                                 ES[0][0]',                       \n",
      "                                                                  'input_NUM_PKTS_128_TO_256_BYTES\n",
      "                                                                 [0][0]',                         \n",
      "                                                                  'input_TCP_WIN_MAX_OUT[0][0]',  \n",
      "                                                                  'input_MAX_TTL[0][0]',          \n",
      "                                                                  'input_NUM_PKTS_UP_TO_128_BYTES[\n",
      "                                                                 0][0]',                          \n",
      "                                                                  'input_OUT_PKTS[0][0]',         \n",
      "                                                                  'input_IN_BYTES[0][0]',         \n",
      "                                                                  'input_MIN_TTL[0][0]',          \n",
      "                                                                  'input_MAX_IP_PKT_LEN[0][0]',   \n",
      "                                                                  'input_RETRANSMITTED_IN_BYTES[0]\n",
      "                                                                 [0]',                            \n",
      "                                                                  'input_TCP_WIN_MAX_IN[0][0]',   \n",
      "                                                                  'input_MIN_IP_PKT_LEN[0][0]',   \n",
      "                                                                  'input_SRC_TO_DST_SECOND_BYTES[0\n",
      "                                                                 ][0]',                           \n",
      "                                                                  'input_IN_PKTS[0][0]',          \n",
      "                                                                  'input_NUM_PKTS_512_TO_1024_BYTE\n",
      "                                                                 S[0][0]',                        \n",
      "                                                                  'input_DST_TO_SRC_AVG_THROUGHPUT\n",
      "                                                                 [0][0]',                         \n",
      "                                                                  'input_LONGEST_FLOW_PKT[0][0]', \n",
      "                                                                  'input_DURATION_OUT[0][0]',     \n",
      "                                                                  'input_RETRANSMITTED_OUT_BYTES[0\n",
      "                                                                 ][0]',                           \n",
      "                                                                  'input_RETRANSMITTED_IN_PKTS[0][\n",
      "                                                                 0]',                             \n",
      "                                                                  'input_FLOW_DURATION_MILLISECOND\n",
      "                                                                 S[0][0]',                        \n",
      "                                                                  'input_RETRANSMITTED_OUT_PKTS[0]\n",
      "                                                                 [0]',                            \n",
      "                                                                  'input_OUT_BYTES[0][0]',        \n",
      "                                                                  'input_SRC_TO_DST_AVG_THROUGHPUT\n",
      "                                                                 [0][0]',                         \n",
      "                                                                  'input_DST_TO_SRC_SECOND_BYTES[0\n",
      "                                                                 ][0]',                           \n",
      "                                                                  'input_NUM_PKTS_256_TO_512_BYTES\n",
      "                                                                 [0][0]',                         \n",
      "                                                                  'input_CLIENT_TCP_FLAGS[0][0]', \n",
      "                                                                  'input_L4_SRC_PORT[0][0]',      \n",
      "                                                                  'input_TCP_FLAGS[0][0]',        \n",
      "                                                                  'input_ICMP_IPV4_TYPE[0][0]',   \n",
      "                                                                  'input_ICMP_TYPE[0][0]',        \n",
      "                                                                  'input_PROTOCOL[0][0]',         \n",
      "                                                                  'input_SERVER_TCP_FLAGS[0][0]', \n",
      "                                                                  'input_L4_DST_PORT[0][0]',      \n",
      "                                                                  'input_L7_PROTO[0][0]']         \n",
      "                                                                                                  \n",
      " embed (Dense)                  (None, 8, 64)        17216       ['feature_concat[0][0]']         \n",
      "                                                                                                  \n",
      " block_0_transformer_encoder (T  (None, 8, 64)       83200       ['embed[0][0]']                  \n",
      " ransformerEncoderBlock)                                                                          \n",
      "                                                                                                  \n",
      " block_1_transformer_encoder (T  (None, 8, 64)       83200       ['block_0_transformer_encoder[0][\n",
      " ransformerEncoderBlock)                                         0]']                             \n",
      "                                                                                                  \n",
      " slice_last (Lambda)            (None, 64)           0           ['block_1_transformer_encoder[0][\n",
      "                                                                 0]']                             \n",
      "                                                                                                  \n",
      " classification_mlp_0_128 (Dens  (None, 128)         8320        ['slice_last[0][0]']             \n",
      " e)                                                                                               \n",
      "                                                                                                  \n",
      " dropout_1 (Dropout)            (None, 128)          0           ['classification_mlp_0_128[0][0]'\n",
      "                                                                 ]                                \n",
      "                                                                                                  \n",
      " binary_classification_out (Den  (None, 1)           129         ['dropout_1[0][0]']              \n",
      " se)                                                                                              \n",
      "                                                                                                  \n",
      "==================================================================================================\n",
      "Total params: 192,065\n",
      "Trainable params: 192,065\n",
      "Non-trainable params: 0\n",
      "__________________________________________________________________________________________________\n"
     ]
    }
   ],
   "source": [
    "# Build the transformer model\n",
    "m = ft.build_model()\n",
    "m.summary()\n",
    "\n",
    "# Compile the model\n",
    "m.compile(optimizer=\"adam\", loss='binary_crossentropy', metrics=['binary_accuracy'], jit_compile=True)"
   ]
  },
  {
   "cell_type": "markdown",
   "metadata": {
    "collapsed": false
   },
   "source": [
    "This model can now be used for machine learning training"
   ]
  }
 ],
 "metadata": {
  "kernelspec": {
   "display_name": "d2l",
   "language": "python",
   "name": "python3"
  },
  "language_info": {
   "codemirror_mode": {
    "name": "ipython",
    "version": 3
   },
   "file_extension": ".py",
   "mimetype": "text/x-python",
   "name": "python",
   "nbconvert_exporter": "python",
   "pygments_lexer": "ipython3",
   "version": "3.10.16"
  }
 },
 "nbformat": 4,
 "nbformat_minor": 0
}
